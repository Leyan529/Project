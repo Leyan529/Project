{
 "cells": [
  {
   "cell_type": "markdown",
   "metadata": {},
   "source": [
    "# 套件宣告"
   ]
  },
  {
   "cell_type": "code",
   "execution_count": 1,
   "metadata": {},
   "outputs": [
    {
     "name": "stderr",
     "output_type": "stream",
     "text": [
      "D:\\Program\\Anaconda3\\envs\\tensorflow\\lib\\site-packages\\h5py\\__init__.py:34: FutureWarning: Conversion of the second argument of issubdtype from `float` to `np.floating` is deprecated. In future, it will be treated as `np.float64 == np.dtype(float).type`.\n",
      "  from ._conv import register_converters as _register_converters\n",
      "Using TensorFlow backend.\n"
     ]
    }
   ],
   "source": [
    "from keras.models import Sequential\n",
    "from keras.layers.core import Dense, Dropout, Flatten, Activation\n",
    "from keras.layers.convolutional import Conv2D, MaxPooling2D\n",
    "from keras.preprocessing.image import load_img, img_to_array\n",
    "from keras.utils import np_utils"
   ]
  },
  {
   "cell_type": "code",
   "execution_count": 2,
   "metadata": {
    "collapsed": true
   },
   "outputs": [],
   "source": [
    "import dlib\n",
    "import cv2\n",
    "import numpy as np\n",
    "import random\n",
    "import matplotlib.pyplot as plt\n",
    "import PIL\n",
    "from PIL import Image\n",
    "import imutils\n",
    "from imutils.face_utils import *\n",
    "import os\n",
    "from os import listdir\n",
    "import pickle\n",
    "import pandas as pd\n",
    "import sys\n",
    "from beauty_detector.align import AlignDlib\n",
    "import time\n",
    "\n",
    "from imutils.face_utils import FaceAligner\n",
    "from imutils.face_utils import rect_to_bb\n",
    "%matplotlib inline"
   ]
  },
  {
   "cell_type": "markdown",
   "metadata": {},
   "source": [
    "# 臉部識別函數宣告"
   ]
  },
  {
   "cell_type": "code",
   "execution_count": 3,
   "metadata": {
    "collapsed": true
   },
   "outputs": [],
   "source": [
    "#讀取評分數據\n",
    "rating_dict={}\n",
    "with open('./beauty_detector/All_labels.txt','rb') as label:\n",
    "    datalines = label.readlines()\n",
    "    for d in datalines:\n",
    "        d = str(d).replace('b','').replace('\\\\n','').replace(\"'\",\"\").split(' ')\n",
    "        rating_dict[d[0]] = float(d[1])\n",
    "        \n",
    "\n",
    "def get_face(img):\n",
    "    #產生臉部識別\n",
    "    face_rects = detector(img, 1)\n",
    "    for i, d in enumerate(face_rects):\n",
    "        #讀取框左上右下座標\n",
    "        x1 = d.left()\n",
    "        y1 = d.top()\n",
    "        x2 = d.right()\n",
    "        y2 = d.bottom()\n",
    "        #根據此座標範圍讀取臉部特徵點\n",
    "        shape = landmark_predictor(img, d)\n",
    "        #將特徵點轉為numpy\n",
    "        shape = shape_to_np(shape)# (68,2)    \n",
    "        # 透過dlib挖取臉孔部分，將臉孔圖片縮放至256*256的大小，並存放於pickle檔中\n",
    "        # 人臉圖像部分呢。很簡單，只要根據畫框的位置切取即可crop_img = img[y1:y2, x1:x2, :]\n",
    "        crop_img = img[y1:y2, x1:x2, :]   \n",
    "        try:\n",
    "            crop_img = cv2.resize(crop_img, (128, 128))         \n",
    "            return crop_img   \n",
    "        except:\n",
    "            return np.array([0])  \n",
    "    return np.array([0]) \n",
    "\n",
    "# def get_face(img):\n",
    "#     #產生臉部識別\n",
    "#     opencvImage = cv2.cvtColor(np.array(img), cv2.COLOR_RGB2BGR)  # predict target\n",
    "#     opencvImage = opencvImage[..., ::-1]\n",
    "#     alignment = AlignDlib('./beauty_detector/landmarks.dat')\n",
    "#     # Detect face and return bounding box\n",
    "#     bb = alignment.getLargestFaceBoundingBox(opencvImage)\n",
    "#     # Transform image using specified face landmark indices and crop image to 96x96\n",
    "#     opencvImage = alignment.align(128, opencvImage, bb, landmarkIndices=AlignDlib.OUTER_EYES_AND_NOSE)\n",
    "#     return opencvImage\n",
    "\n",
    "# def get_face(img):\n",
    "#     gray = cv2.cvtColor(img, cv2.COLOR_BGR2GRAY)\n",
    "#     faces = detector(gray, 1)\n",
    " \n",
    "#     for face in faces:\n",
    "#         (x, y, w, h) = rect_to_bb(face)\n",
    "#         faceOrig = imutils.resize(img[y : y+h, x : x+w], width=128)\n",
    "#         faceAligned = fa.align(img, gray, face)\n",
    "#         plt.imshow(cv2.cvtColor(faceAligned, cv2.COLOR_BGR2RGB))\n",
    "#         return faceAligned"
   ]
  },
  {
   "cell_type": "markdown",
   "metadata": {},
   "source": [
    "# 顏值特徵擷取"
   ]
  },
  {
   "cell_type": "code",
   "execution_count": 4,
   "metadata": {},
   "outputs": [
    {
     "name": "stdout",
     "output_type": "stream",
     "text": [
      "./beauty_detector/Images\\AF1053.jpg\n",
      "99 detect success , use time:9.242728s\n",
      "199 detect success , use time:18.363535s\n",
      "299 detect success , use time:27.456340s\n",
      "./beauty_detector/Images\\AF1330.jpg\n",
      "398 detect success , use time:36.545155s\n",
      "498 detect success , use time:45.625984s\n",
      "./beauty_detector/Images\\AF1479.jpg\n",
      "597 detect success , use time:55.155576s\n",
      "697 detect success , use time:64.637340s\n",
      "./beauty_detector/Images\\AF1678.jpg\n",
      "796 detect success , use time:74.405072s\n",
      "896 detect success , use time:83.822511s\n",
      "996 detect success , use time:93.292324s\n",
      "./beauty_detector/Images\\AF1935.jpg\n",
      "1095 detect success , use time:102.706786s\n",
      "1195 detect success , use time:112.615328s\n",
      "1295 detect success , use time:122.002657s\n",
      "1395 detect success , use time:131.370943s\n",
      "1495 detect success , use time:141.125024s\n",
      "1595 detect success , use time:150.624033s\n",
      "./beauty_detector/Images\\AF722.jpg\n",
      "1694 detect success , use time:160.022430s\n",
      "1794 detect success , use time:169.449894s\n",
      "./beauty_detector/Images\\AF849.jpg\n",
      "1893 detect success , use time:178.925706s\n",
      "1993 detect success , use time:188.273974s\n",
      "2093 detect success , use time:197.587500s\n",
      "2193 detect success , use time:206.936091s\n",
      "2293 detect success , use time:216.251447s\n",
      "2393 detect success , use time:225.509136s\n",
      "2493 detect success , use time:234.784824s\n",
      "2593 detect success , use time:244.495804s\n",
      "2693 detect success , use time:253.995847s\n",
      "2793 detect success , use time:263.383134s\n",
      "2893 detect success , use time:272.877012s\n",
      "2993 detect success , use time:282.456005s\n",
      "3093 detect success , use time:291.980843s\n",
      "3193 detect success , use time:301.366761s\n",
      "./beauty_detector/Images\\AM312.jpg\n",
      "3292 detect success , use time:310.752415s\n",
      "3392 detect success , use time:320.097108s\n",
      "3492 detect success , use time:329.746480s\n",
      "./beauty_detector/Images\\AM59.jpg\n",
      "3591 detect success , use time:339.132849s\n",
      "3691 detect success , use time:348.519655s\n",
      "3791 detect success , use time:357.849611s\n",
      "3891 detect success , use time:367.323216s\n",
      "3991 detect success , use time:376.711460s\n",
      "./beauty_detector/Images\\CF15.jpg\n",
      "4090 detect success , use time:386.255350s\n",
      "./beauty_detector/Images\\CF243.jpg\n",
      "4189 detect success , use time:395.718521s\n",
      "./beauty_detector/Images\\CF333.jpg\n",
      "4288 detect success , use time:405.227299s\n",
      "./beauty_detector/Images\\CF427.jpg\n",
      "4387 detect success , use time:414.598599s\n",
      "4487 detect success , use time:424.185153s\n",
      "4587 detect success , use time:433.629394s\n",
      "./beauty_detector/Images\\CF726.jpg\n",
      "4686 detect success , use time:442.966178s\n",
      "4786 detect success , use time:452.302642s\n",
      "./beauty_detector/Images\\CM233.jpg\n",
      "4885 detect success , use time:461.563694s\n",
      "4985 detect success , use time:470.813442s\n",
      "./beauty_detector/Images\\CM369.jpg\n",
      "5084 detect success , use time:480.179562s\n",
      "5184 detect success , use time:489.787321s\n",
      "5284 detect success , use time:499.142263s\n",
      "./beauty_detector/Images\\CM668.jpg\n",
      "5383 detect success , use time:508.609536s\n"
     ]
    },
    {
     "data": {
      "text/plain": [
       "(5483, 128, 128, 3)"
      ]
     },
     "execution_count": 4,
     "metadata": {},
     "output_type": "execute_result"
    }
   ],
   "source": [
    "def load_dataset():\n",
    "    global detector ,landmark_predictor\n",
    "    #宣告臉部偵測器，以及載入預訓練的臉部特徵點模型\n",
    "    detector = dlib.get_frontal_face_detector()\n",
    "    landmark_predictor = dlib.shape_predictor('./beauty_detector/shape_predictor_68_face_landmarks.dat')\n",
    "\n",
    "#     global detector ,fa\n",
    "#     detector = dlib.get_frontal_face_detector()\n",
    "#     predictor = dlib.shape_predictor(\"./beauty_detector/shape_predictor_68_face_landmarks.dat\")\n",
    "#     fa = FaceAligner(predictor, desiredFaceWidth=128)\n",
    "    \n",
    "    files = './beauty_detector/Images'\n",
    "    image_data_list = []\n",
    "    label = []\n",
    "    start = time.time()\n",
    "    # 以迴圈處理\n",
    "    error = []\n",
    "    for idx,f in enumerate(os.listdir(files)):\n",
    "        # 產生檔案的絕對路徑\n",
    "        fullpath = os.path.join(files, f)\n",
    "        img = cv2.imread(fullpath)\n",
    "        face = get_face(img)\n",
    "        if (face.shape != (1,)) :\n",
    "            image_data_list.append(img_to_array(face))\n",
    "            label.append(rating_dict[f]) \n",
    "        else:\n",
    "            error.append(f)\n",
    "            print(fullpath)\n",
    "        if (idx%100==0)and (idx>0):        \n",
    "            print(\"{} detect success , use time:{:2f}s\".format(idx - len(error),time.time() - start))\n",
    "        del fullpath,img,face\n",
    "        \n",
    "    img_data = np.array(image_data_list)\n",
    "    img_data = img_data.astype('float32')\n",
    "    img_data /= 255        \n",
    "    return img_data, label \n",
    "\n",
    "train_x, train_y = load_dataset()\n",
    "train_x.shape"
   ]
  },
  {
   "cell_type": "markdown",
   "metadata": {},
   "source": [
    "# DataSet輸出為npz檔"
   ]
  },
  {
   "cell_type": "code",
   "execution_count": 5,
   "metadata": {},
   "outputs": [
    {
     "data": {
      "text/plain": [
       "5500"
      ]
     },
     "execution_count": 5,
     "metadata": {},
     "output_type": "execute_result"
    }
   ],
   "source": [
    "np.savez('./beauty_detector/my_archive.npz', data=train_x, label=train_y)\n",
    "ds = np.load('./beauty_detector/my_archive.npz')\n",
    "train_x,train_y = ds['data'],ds['label']\n",
    "len(rating_dict.keys())"
   ]
  },
  {
   "cell_type": "markdown",
   "metadata": {},
   "source": [
    "# 建立顏值評分模型"
   ]
  },
  {
   "cell_type": "code",
   "execution_count": 6,
   "metadata": {},
   "outputs": [
    {
     "name": "stdout",
     "output_type": "stream",
     "text": [
      "_________________________________________________________________\n",
      "Layer (type)                 Output Shape              Param #   \n",
      "=================================================================\n",
      "conv2d_1 (Conv2D)            (None, 128, 128, 32)      896       \n",
      "_________________________________________________________________\n",
      "activation_1 (Activation)    (None, 128, 128, 32)      0         \n",
      "_________________________________________________________________\n",
      "max_pooling2d_1 (MaxPooling2 (None, 64, 64, 32)        0         \n",
      "_________________________________________________________________\n",
      "dropout_1 (Dropout)          (None, 64, 64, 32)        0         \n",
      "_________________________________________________________________\n",
      "flatten_1 (Flatten)          (None, 131072)            0         \n",
      "_________________________________________________________________\n",
      "dense_1 (Dense)              (None, 1)                 131073    \n",
      "_________________________________________________________________\n",
      "activation_2 (Activation)    (None, 1)                 0         \n",
      "=================================================================\n",
      "Total params: 131,969\n",
      "Trainable params: 131,969\n",
      "Non-trainable params: 0\n",
      "_________________________________________________________________\n"
     ]
    }
   ],
   "source": [
    "def make_network():\n",
    "    model = Sequential()\n",
    "    model.add(Conv2D(32, (3, 3), padding='same', input_shape=(128, 128, 3)))\n",
    "    model.add(Activation('relu'))\n",
    "#     model.add(Conv2D(32, (3, 3)))\n",
    "#     model.add(Activation('relu'))\n",
    "    model.add(MaxPooling2D(pool_size=(2, 2)))\n",
    "    model.add(Dropout(0.5))\n",
    "\n",
    "    model.add(Flatten())    \n",
    "    model.add(Dense(1))\n",
    "    model.add(Activation('linear'))\n",
    "    model.compile(loss ='mse',optimizer='adam')\n",
    "    model.summary()\n",
    "    return model\n",
    "model = make_network()"
   ]
  },
  {
   "cell_type": "markdown",
   "metadata": {},
   "source": [
    "# 模型訓練"
   ]
  },
  {
   "cell_type": "code",
   "execution_count": 7,
   "metadata": {},
   "outputs": [
    {
     "name": "stdout",
     "output_type": "stream",
     "text": [
      "Epoch 1/1\n",
      "5483/5483 [==============================] - 70s 13ms/step - loss: 3.1088\n"
     ]
    },
    {
     "name": "stderr",
     "output_type": "stream",
     "text": [
      "D:\\Program\\Anaconda3\\envs\\tensorflow\\lib\\site-packages\\keras\\callbacks.py:569: RuntimeWarning: Early stopping conditioned on metric `val_loss` which is not available. Available metrics are: loss\n",
      "  (self.monitor, ','.join(list(logs.keys()))), RuntimeWarning\n"
     ]
    }
   ],
   "source": [
    "from keras.callbacks import *\n",
    "\n",
    "early_stopping = EarlyStopping(\n",
    "    monitor='val_loss', \n",
    "    patience=2, \n",
    "    verbose=0, \n",
    "    mode='auto'\n",
    ")\n",
    "\n",
    "hist = model.fit(train_x, np.array(train_y), batch_size=32, epochs=1, verbose=1, callbacks=[early_stopping])"
   ]
  },
  {
   "cell_type": "markdown",
   "metadata": {},
   "source": [
    "# 模型評估"
   ]
  },
  {
   "cell_type": "code",
   "execution_count": 8,
   "metadata": {},
   "outputs": [
    {
     "name": "stdout",
     "output_type": "stream",
     "text": [
      "5483/5483 [==============================] - 21s 4ms/step\n"
     ]
    },
    {
     "data": {
      "text/plain": [
       "0.3342518771073037"
      ]
     },
     "execution_count": 8,
     "metadata": {},
     "output_type": "execute_result"
    }
   ],
   "source": [
    "model.evaluate(train_x,train_y)"
   ]
  },
  {
   "cell_type": "markdown",
   "metadata": {},
   "source": [
    "# 儲存模型%權重"
   ]
  },
  {
   "cell_type": "code",
   "execution_count": 9,
   "metadata": {
    "collapsed": true
   },
   "outputs": [],
   "source": [
    "# Save model\n",
    "model.save('./beauty_detector/faceRank.h5')\n",
    "model.save_weights('./beauty_detector/faceRank_weights.h5')\n",
    "del model\n",
    "from keras.models import load_model\n",
    "global model\n",
    "model = load_model('./beauty_detector/faceRank.h5')\n",
    "model.load_weights('./beauty_detector/faceRank_weights.h5')"
   ]
  },
  {
   "cell_type": "markdown",
   "metadata": {},
   "source": [
    "# 目標顏值預測"
   ]
  },
  {
   "cell_type": "code",
   "execution_count": 14,
   "metadata": {
    "collapsed": true
   },
   "outputs": [],
   "source": [
    "def predict_image(img_url):\n",
    "    image = cv2.imread(img_url)\n",
    "    face = get_face(image)\n",
    "    face = face.astype('float32')\n",
    "    face /= 255  \n",
    "    image = img_to_array(face)\n",
    "    img = image[np.newaxis,:,:]\n",
    "    plt.axis('off')\n",
    "    plt.imshow(cv2.cvtColor(image, cv2.COLOR_BGR2RGB))\n",
    "    \n",
    "    print(\"Predict Score : {}\".format(model.predict(img)[0][0] * 20))    "
   ]
  },
  {
   "cell_type": "code",
   "execution_count": 15,
   "metadata": {},
   "outputs": [
    {
     "name": "stdout",
     "output_type": "stream",
     "text": [
      "Predict Score : 68.35575103759766\n"
     ]
    },
    {
     "data": {
      "image/png": "[encoded data removed]",
      "text/plain": [
       "<matplotlib.figure.Figure at 0x1be40354dd8>"
      ]
     },
     "metadata": {},
     "output_type": "display_data"
    }
   ],
   "source": [
    "predict_image('./beauty_detector/abc.jpg')"
   ]
  },
  {
   "cell_type": "code",
   "execution_count": null,
   "metadata": {
    "collapsed": true
   },
   "outputs": [],
   "source": []
  }
 ],
 "metadata": {
  "kernelspec": {
   "display_name": "Python [conda env:tensorflow]",
   "language": "python",
   "name": "conda-env-tensorflow-py"
  },
  "language_info": {
   "codemirror_mode": {
    "name": "ipython",
    "version": 3
   },
   "file_extension": ".py",
   "mimetype": "text/x-python",
   "name": "python",
   "nbconvert_exporter": "python",
   "pygments_lexer": "ipython3",
   "version": "3.6.1"
  }
 },
 "nbformat": 4,
 "nbformat_minor": 2
}
